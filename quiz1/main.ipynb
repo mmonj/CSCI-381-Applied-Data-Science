{
 "cells": [
  {
   "cell_type": "markdown",
   "id": "f9fbaade",
   "metadata": {},
   "source": [
    "# CSCI 381: Applied Data Science: Quiz 1\n",
    "\n",
    "Mauricio Monje\n",
    "June 10, 2025"
   ]
  },
  {
   "cell_type": "markdown",
   "id": "87883e0b",
   "metadata": {},
   "source": [
    "## Data Summary\n",
    "\n",
    "In this section, we summarize the diamonds dataset, including the number of use cases (number of records), the number of attributes, and the data types for each attribute. The dataset is loaded directly from my Github repository."
   ]
  },
  {
   "cell_type": "code",
   "execution_count": null,
   "id": "a1fa9772",
   "metadata": {},
   "outputs": [],
   "source": [
    "import matplotlib.pyplot as plt\n",
    "import pandas as pd\n",
    "import seaborn as sns\n",
    "\n",
    "data_url = \"https://github.com/mmonj/CSCI-381-Applied-Data-Science/raw/refs/heads/main/quiz1/data/diamonds.csv\"\n",
    "df_original = pd.read_csv(data_url, index_col=0)\n",
    "\n",
    "df_diamonds = df_original.drop_duplicates()\n",
    "\n",
    "print(f\"Dropped {df_original.shape[0] - df_diamonds.shape[0]} duplicates\")\n",
    "\n",
    "num_use_cases, num_attributes_per_use_case = df_diamonds.shape\n",
    "print(f\"Total number of use cases: {num_use_cases}\")\n",
    "print(f\"Number of attributes per use case: {num_attributes_per_use_case}\")\n",
    "\n",
    "print(\"\\nData types of the attributes:\")\n",
    "print(df_diamonds.dtypes)\n",
    "\n",
    "print(\"\\nFirst 5 rows of dataframe:\")\n",
    "print(df_diamonds.head())"
   ]
  },
  {
   "cell_type": "markdown",
   "id": "dcddbb62",
   "metadata": {},
   "source": [
    "**Summary:**\n",
    "- The dataset contains over 50,000 diamond records, each with several attributes such as carat, cut, color, clarity, depth, table, price, and dimensions (x, y, z)\n",
    "- Data types are a mix of numeric (e.g., carat, price) and categorical (e.g., cut, color, clarity) variables."
   ]
  },
  {
   "cell_type": "markdown",
   "id": "6932bb23",
   "metadata": {},
   "source": [
    "## Exploratory Data Analysis (EDA)\n",
    "\n",
    "- Numeric variables (carat, depth, table, price, x, y, z) are analyzed with histograms and boxplots to understand distribution, skewness, and detect outliers\n",
    "- Categorical variables (cut, color, clarity) are analyzed with count plots to understand category distribution and with boxplots of price to examine relationship to value."
   ]
  },
  {
   "cell_type": "code",
   "execution_count": null,
   "id": "ad537584",
   "metadata": {},
   "outputs": [],
   "source": [
    "print(\"Summary statistics for numeric attributes:\")\n",
    "df_diamonds.describe()"
   ]
  },
  {
   "cell_type": "markdown",
   "id": "d4732a3c",
   "metadata": {},
   "source": [
    "### Numeric Variable Analysis\n",
    "\n",
    "For each numeric attribute, we present histograms and boxplots using both Matplotlib and Seaborn to visualize distributions and identify outliers.\n",
    "\n",
    "- **Histograms** were used here for the diamonds dataset because we want to see how things like carat, price, and dimensions are distributed. For example, we can quickly see if most diamonds are small or if there are a lot of expensive ones. This helps us understand if the data is skewed or if there are common value ranges.\n",
    "- **Boxplots** are useful here because the diamonds dataset can have outliers (like a few very large or expensive diamonds). Boxplots make it easy to spot these outliers and compare the spread and center of each numeric attribute, which is important for understanding the variety in diamond characteristics.\n",
    "- Using both Matplotlib and Seaborn lets us double-check our findings and see the data in different styles, which can help to discern patterns."
   ]
  },
  {
   "cell_type": "code",
   "execution_count": null,
   "id": "bc7fdee7",
   "metadata": {},
   "outputs": [],
   "source": [
    "attributes = [\"carat\", \"depth\", \"table\", \"price\", \"x\", \"y\", \"z\"]\n",
    "\n",
    "for attr in attributes:\n",
    "    # histogram matploylib\n",
    "    plt.figure(figsize=(6, 4))\n",
    "    plt.hist(df_diamonds[attr], bins=30, edgecolor=\"black\")\n",
    "    plt.title(f\"Histogram of {attr} (Matplotlib)\")\n",
    "    plt.xlabel(attr)\n",
    "    plt.ylabel(\"Frequency\")\n",
    "    plt.grid(True)\n",
    "    plt.show()\n",
    "\n",
    "    # histogram seaborn\n",
    "    plt.figure(figsize=(6, 4))\n",
    "    sns.histplot(df_diamonds[attr], bins=30, kde=True)\n",
    "    plt.title(f\"Histogram of {attr} (Seaborn)\")\n",
    "    plt.xlabel(attr)\n",
    "    plt.ylabel(\"Frequency\")\n",
    "    plt.show()\n",
    "\n",
    "    # boxplot matplotlib\n",
    "    plt.figure(figsize=(6, 1.5))\n",
    "    plt.boxplot(df_diamonds[attr], vert=False)\n",
    "    plt.title(f\"Boxplot of {attr} (Matplotlib)\")\n",
    "    plt.xlabel(attr)\n",
    "    plt.show()\n",
    "\n",
    "    # boxplot seaborn\n",
    "    plt.figure(figsize=(6, 1.5))\n",
    "    sns.boxplot(x=df_diamonds[attr])\n",
    "    plt.title(f\"Boxplot of {attr} (Seaborn)\")\n",
    "    plt.xlabel(attr)\n",
    "    plt.show()"
   ]
  },
  {
   "cell_type": "markdown",
   "id": "81b8e5b0",
   "metadata": {},
   "source": [
    "### Categorical Variable Analysis\n",
    "\n",
    "For each categorical attribute, we present bar charts and count plots to visualize category frequencies, and boxplots of price by category to explore relationships with price."
   ]
  },
  {
   "cell_type": "code",
   "execution_count": null,
   "id": "807cfe03",
   "metadata": {},
   "outputs": [],
   "source": [
    "attributes = [\"cut\", \"color\", \"clarity\"]\n",
    "\n",
    "for attr in attributes:\n",
    "    # bar chart matplotlib\n",
    "    plt.figure(figsize=(6, 4))\n",
    "    df_diamonds[attr].value_counts().plot(kind=\"bar\")\n",
    "    plt.title(f\"Count of {attr} categories (Matplotlib)\")\n",
    "    plt.xlabel(attr)\n",
    "    plt.ylabel(\"Count\")\n",
    "    plt.tight_layout()\n",
    "    plt.show()\n",
    "\n",
    "    # countplot seaborn\n",
    "    plt.figure(figsize=(6, 4))\n",
    "    sns.countplot(x=attr, data=df_diamonds, order=df_diamonds[attr].value_counts().index)\n",
    "    plt.title(f\"Count of {attr} categories (Seaborn)\")\n",
    "    plt.xlabel(attr)\n",
    "    plt.ylabel(\"Count\")\n",
    "    plt.tight_layout()\n",
    "    plt.show()\n",
    "\n",
    "    # boxplot of price by category with Seaborn\n",
    "    plt.figure(figsize=(6, 4))\n",
    "    sns.boxplot(x=attr, y=\"price\", data=df_diamonds, order=df_diamonds[attr].value_counts().index)\n",
    "    plt.title(f\"Price distribution by {attr} (Seaborn)\")\n",
    "    plt.xlabel(attr)\n",
    "    plt.ylabel(\"Price\")\n",
    "    plt.tight_layout()\n",
    "    plt.show()"
   ]
  },
  {
   "cell_type": "markdown",
   "id": "abbcb354",
   "metadata": {},
   "source": [
    "**Findings:**\n",
    "- 'carat' and 'price' are right-skewed; most diamonds are small and inexpensive, but a few large/expensive ones increase the spread\n",
    "- 'depth' and 'table' are roughly normally distributed.\n",
    "- 'x', 'y', 'z' follow similar patterns as 'carat' but include outliers.\n",
    "- Categorical features like 'cut', 'color', and 'clarity' show uneven class distributions (e.g., 'Ideal' cut is most common).\n",
    "- Price increases generally with better clarity and color, but variation is significant."
   ]
  },
  {
   "cell_type": "markdown",
   "id": "5222a319",
   "metadata": {},
   "source": [
    "## Inferences"
   ]
  },
  {
   "cell_type": "markdown",
   "id": "a2572941",
   "metadata": {},
   "source": [
    "### 1. What proportion of diamonds are between 0.30 and 1.08 carats?"
   ]
  },
  {
   "cell_type": "code",
   "execution_count": null,
   "id": "2bd1a967",
   "metadata": {},
   "outputs": [],
   "source": [
    "lower = 0.30\n",
    "upper = 1.08\n",
    "\n",
    "count_in_range = df_diamonds[(df_diamonds[\"carat\"] >= lower) & (df_diamonds[\"carat\"] <= upper)].shape[0]\n",
    "proportion = count_in_range / df_diamonds.shape[0]\n",
    "\n",
    "print(f\"Number in range: {count_in_range}\")\n",
    "print(f\"Proportion in range: {proportion}\")"
   ]
  },
  {
   "cell_type": "markdown",
   "id": "ac953669",
   "metadata": {},
   "source": [
    "### 2. How many of the diamonds have equal x and y dimensions?"
   ]
  },
  {
   "cell_type": "code",
   "execution_count": null,
   "id": "b775f83a",
   "metadata": {},
   "outputs": [],
   "source": [
    "result = df_diamonds[df_diamonds[\"x\"] == df_diamonds[\"y\"]]\n",
    "print(f\"Diamonds with x == y: {result.shape[0]}\")"
   ]
  },
  {
   "cell_type": "markdown",
   "id": "5fa23f2f",
   "metadata": {},
   "source": [
    "### 3. How many of the diamonds have a carat value less than the mean carat value?"
   ]
  },
  {
   "cell_type": "code",
   "execution_count": null,
   "id": "cde6d7a6",
   "metadata": {},
   "outputs": [],
   "source": [
    "mean_carat = df_diamonds[\"carat\"].mean()\n",
    "below_mean = df_diamonds[df_diamonds[\"carat\"] < mean_carat].shape[0]\n",
    "print(f\"Mean carat: {mean_carat:.3f}\")\n",
    "print(f\"Diamonds with carat < mean: {below_mean}\")"
   ]
  },
  {
   "cell_type": "markdown",
   "id": "1f4417c5",
   "metadata": {},
   "source": [
    "### 4. How many diamonds have a Premium cut or better?"
   ]
  },
  {
   "cell_type": "code",
   "execution_count": null,
   "id": "2ca3720e",
   "metadata": {},
   "outputs": [],
   "source": [
    "premium_or_better = df_diamonds[df_diamonds[\"cut\"].isin([\"Premium\", \"Ideal\"])]\n",
    "print(f\"Diamonds with Premium cut or better: {premium_or_better.shape[0]}\")"
   ]
  },
  {
   "cell_type": "markdown",
   "id": "3917e63b",
   "metadata": {},
   "source": [
    "### 5. Which diamond has the highest price per carat? What is its value?"
   ]
  },
  {
   "cell_type": "code",
   "execution_count": null,
   "id": "5c441a6b",
   "metadata": {},
   "outputs": [],
   "source": [
    "df_diamonds[\"price_per_carat\"] = df_diamonds[\"price\"] / df_diamonds[\"carat\"]\n",
    "idx_max = df_diamonds[\"price_per_carat\"].idxmax()\n",
    "max_row = df_diamonds.loc[idx_max]\n",
    "print(\"Diamond with highest price per carat:\")\n",
    "print(max_row)\n",
    "print(f\"Highest price per carat: {max_row['price_per_carat']:.2f}\")"
   ]
  },
  {
   "cell_type": "markdown",
   "id": "2fb4191a",
   "metadata": {},
   "source": [
    "### 6. Boxplots of diamond price for each cut (Matplotlib and Seaborn)"
   ]
  },
  {
   "cell_type": "code",
   "execution_count": null,
   "id": "e8db6247",
   "metadata": {},
   "outputs": [],
   "source": [
    "# boxplot by cut with matplotlib\n",
    "plt.figure(figsize=(8, 5))\n",
    "df_diamonds.boxplot(column=\"price\", by=\"cut\")\n",
    "plt.title(\"Diamond Price by Cut (Matplotlib)\")\n",
    "plt.suptitle(\"\")\n",
    "plt.xlabel(\"Cut\")\n",
    "plt.ylabel(\"Price\")\n",
    "plt.show()\n",
    "\n",
    "# boxplot by cut using seaborn.\n",
    "plt.figure(figsize=(8, 5))\n",
    "sns.boxplot(x=\"cut\", y=\"price\", data=df_diamonds, order=[\"Fair\", \"Good\", \"Very Good\", \"Premium\", \"Ideal\"])\n",
    "plt.title(\"Diamond Price by Cut (Seaborn)\")\n",
    "plt.xlabel(\"Cut\")\n",
    "plt.ylabel(\"Price\")\n",
    "plt.show()"
   ]
  },
  {
   "cell_type": "markdown",
   "id": "fc535c1c",
   "metadata": {},
   "source": [
    "Boxplots show that Ideal and Premium cuts have a wide range of prices, but the median price is not always highest for the best cut. Outliers occur in all categories and price variation is significant within each cut."
   ]
  },
  {
   "cell_type": "markdown",
   "id": "340b8425",
   "metadata": {},
   "source": [
    "### 7. Scatter plot of price vs. carat"
   ]
  },
  {
   "cell_type": "code",
   "execution_count": null,
   "id": "461539a9",
   "metadata": {},
   "outputs": [],
   "source": [
    "# scatter plot price vs. carat with matploblib\n",
    "plt.figure(figsize=(7, 5))\n",
    "plt.scatter(df_diamonds[\"carat\"], df_diamonds[\"price\"], alpha=0.3, s=10)\n",
    "plt.title(\"Price vs. Carat (Matplotlib)\")\n",
    "plt.xlabel(\"Carat\")\n",
    "plt.ylabel(\"Price\")\n",
    "plt.show()\n",
    "\n",
    "# scatter plot price vs. carat with seaborn\n",
    "plt.figure(figsize=(7, 5))\n",
    "sns.scatterplot(x=\"carat\", y=\"price\", data=df_diamonds, alpha=0.3, s=10)\n",
    "plt.title(\"Price vs. Carat (Seaborn)\")\n",
    "plt.xlabel(\"Carat\")\n",
    "plt.ylabel(\"Price\")\n",
    "plt.show()"
   ]
  },
  {
   "cell_type": "markdown",
   "id": "95965668",
   "metadata": {},
   "source": [
    "There is a strong positive relationship between carat and price, but the relationship is nonlinear. Price increases rapidly for larger carats, and there is a large spread at each carat value."
   ]
  },
  {
   "cell_type": "markdown",
   "id": "da06c2d7",
   "metadata": {},
   "source": [
    "## Conclusion\n",
    "\n",
    "In this project, we explored the diamonds dataset by summarizing the data, creating visualizations, and answering specific questions about the diamonds. Most diamonds in the dataset are small and not very expensive, and we saw that as carat increases, price usually goes up as well, but in a non-linear fashion - bigger diamonds can be much more expensive. The cut, color, and clarity of a diamond also affect its price, but having the best cut doesn't always mean the highest price. We also noticed some odd data points, like diamonds with zero for some dimensions, which likely means there were mistakes when the data was collected. Overall, the dataset gives a comprehensive overview of how different features relate to diamond prices."
   ]
  },
  {
   "cell_type": "markdown",
   "id": "c41aa92c",
   "metadata": {},
   "source": [
    "## References\n",
    "\n",
    "- [ggplot2 diamonds documentation](https://ggplot2.tidyverse.org/reference/diamonds.html) - for attribute definitions, expected value ranges, and dataset context.\n",
    "- [GIA 4Cs of Diamond Quality](https://www.gia.edu/diamond-quality-factor) - for understanding carat, cut, color, and clarity grading standards and impacts on value\n"
   ]
  }
 ],
 "metadata": {
  "kernelspec": {
   "display_name": "csci381-quiz1",
   "language": "python",
   "name": "csci381-quiz1"
  },
  "language_info": {
   "codemirror_mode": {
    "name": "ipython",
    "version": 3
   },
   "file_extension": ".py",
   "mimetype": "text/x-python",
   "name": "python",
   "nbconvert_exporter": "python",
   "pygments_lexer": "ipython3",
   "version": "3.11.7"
  }
 },
 "nbformat": 4,
 "nbformat_minor": 5
}
