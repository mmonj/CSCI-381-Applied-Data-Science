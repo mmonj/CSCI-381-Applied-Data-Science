{
 "cells": [
  {
   "cell_type": "markdown",
   "id": "3f3f7ba7",
   "metadata": {},
   "source": [
    "# Quiz 3: Cleaning “Messy” Data\n",
    "\n",
    "In this notebook, we explore and clean a wine dataset that contains a variety of data integrity and usability issues. The goal is to perform a thorough exploratory data analysis (EDA), identify and address data quality problems, and prepare the data for use in a machine learning context. The process includes:\n",
    "\n",
    "- Loading the dataset from a GitHub repository\n",
    "- Performing EDA with visualizations and summary statistics\n",
    "- Identifying and addressing missing or invalid values\n",
    "- Applying appropriate data preparation techniques\n",
    "- Reviewing the impact of data preparation\n",
    "- Summarizing key findings and next steps"
   ]
  },
  {
   "cell_type": "code",
   "execution_count": null,
   "id": "ab960d68",
   "metadata": {},
   "outputs": [],
   "source": [
    "import pandas as pd\n",
    "import numpy as np\n",
    "import matplotlib.pyplot as plt\n",
    "import seaborn as sns\n",
    "from sklearn.impute import SimpleImputer, KNNImputer\n",
    "\n",
    "data_url = \"https://github.com/mmonj/CSCI-381-Applied-Data-Science/raw/refs/heads/main/quiz3/data/Day2_Data.csv\"\n",
    "wine_df = pd.read_csv(data_url)\n",
    "\n",
    "\n",
    "# keep a copy of the original data for later comparison\n",
    "wine_df_original = wine_df.copy()\n",
    "\n",
    "wine_df.head()"
   ]
  },
  {
   "cell_type": "markdown",
   "id": "d231e58b",
   "metadata": {},
   "source": [
    "## Exploratory Data Analysis (EDA)\n",
    "\n",
    "First, we examine the structure of the dataset, check for missing or unusual values, and generate summary statistics and visualizations for each attribute to help identify any data integrity issues."
   ]
  },
  {
   "cell_type": "code",
   "execution_count": null,
   "id": "466b8652",
   "metadata": {},
   "outputs": [],
   "source": [
    "# check the shape and columns\n",
    "print(f\"{wine_df.shape[1]} columns\")\n",
    "wine_df.columns.tolist()"
   ]
  },
  {
   "cell_type": "code",
   "execution_count": null,
   "id": "682bed95",
   "metadata": {},
   "outputs": [],
   "source": [
    "# check for missing values in each column\n",
    "wine_df.isna().sum()"
   ]
  },
  {
   "cell_type": "code",
   "execution_count": null,
   "id": "3a98e1df",
   "metadata": {},
   "outputs": [],
   "source": [
    "# show summary statistics for all columns\n",
    "wine_df.describe(include=\"all\")"
   ]
  },
  {
   "cell_type": "markdown",
   "id": "b2ce8b6c",
   "metadata": {},
   "source": [
    "Below, we visualize the distributions of the numeric features to look for outliers, skewness, and other potential issues."
   ]
  },
  {
   "cell_type": "code",
   "execution_count": null,
   "id": "ff843a42",
   "metadata": {},
   "outputs": [],
   "source": [
    "# plot histograms for all numeric columns\n",
    "wine_df.hist(bins=30, figsize=(18, 12))\n",
    "plt.tight_layout()\n",
    "plt.show()"
   ]
  },
  {
   "cell_type": "code",
   "execution_count": null,
   "id": "a328a3a6",
   "metadata": {},
   "outputs": [],
   "source": [
    "# plot boxplots for all numeric columns to check for outliers\n",
    "plt.figure(figsize=(18, 12))\n",
    "for i, col in enumerate(wine_df.select_dtypes(include=[np.number]).columns):\n",
    "    plt.subplot(4, 4, i+1)\n",
    "    sns.boxplot(y=wine_df[col])\n",
    "    plt.title(col)\n",
    "plt.tight_layout()\n",
    "plt.show()"
   ]
  },
  {
   "cell_type": "markdown",
   "id": "8358f0d8",
   "metadata": {},
   "source": [
    "From the above, we can see that several columns have missing values and some contain negative or otherwise unusual values (e.g., negative acidity, negative sulfur dioxide, etc.). These will need to be addressed in the data preparation step."
   ]
  },
  {
   "cell_type": "markdown",
   "id": "f399ff8e",
   "metadata": {},
   "source": [
    "## Data Integrity Issues and Preparation\n",
    "\n",
    "Based on the EDA, there are several data integrity issues to address:\n",
    "- Missing values in multiple columns\n",
    "- Negative values in columns that should be non-negative (e.g., acidity, sulfur dioxide, etc.)\n",
    "- Possible outliers and skewed distributions\n",
    "\n",
    "We tackle missing values using imputation (mean for most numeric columns, mode for categorical), and set negative values to NaN before imputation for columns that should only have non-negative values, using the Scikitlearn library."
   ]
  },
  {
   "cell_type": "code",
   "execution_count": null,
   "id": "d7f18e2b",
   "metadata": {},
   "outputs": [],
   "source": [
    "nonneg_cols = [\n",
    "    \"FixedAcidity\", \"VolatileAcidity\", \"CitricAcid\", \"ResidualSugar\", \"Chlorides\",\n",
    "    \"FreeSulfurDioxide\", \"TotalSulfurDioxide\", \"Density\", \"pH\", \"Sulphates\", \"Alcohol\",\n",
    "    \"LabelAppeal\", \"AcidIndex\", \"STARS\"\n",
    "]\n",
    "\n",
    "# set negative values to NaN for these columns\n",
    "for col in nonneg_cols:\n",
    "    if col in wine_df.columns:\n",
    "        wine_df.loc[wine_df[col] < 0, col] = np.nan\n",
    "\n",
    "# impute missing values with mean for numeric columns, except for STARS, AcidIndex, and LabelAppeal which are discrete/categorical\n",
    "cat_discrete_cols = [\"STARS\", \"AcidIndex\", \"LabelAppeal\"]\n",
    "num_cols = [col for col in wine_df.select_dtypes(include=[np.number]).columns if col not in cat_discrete_cols]\n",
    "imputer = SimpleImputer(strategy=\"mean\")\n",
    "wine_df[num_cols] = imputer.fit_transform(wine_df[num_cols])\n",
    "\n",
    "# KNN imputation for STARS to ensure only valid integer values (1-5)\n",
    "knn_imputer = KNNImputer(n_neighbors=5)\n",
    "stars_imputed = knn_imputer.fit_transform(wine_df[[\"STARS\"]])\n",
    "# round to nearest valid integer and clip to valid range\n",
    "stars_imputed = np.round(stars_imputed).astype(int)\n",
    "stars_imputed = np.clip(stars_imputed, 1, 5)\n",
    "wine_df[\"STARS\"] = stars_imputed\n",
    "\n",
    "# fill missing values in AcidIndex and LabelAppeal with mode (treat as categorical/discrete)\n",
    "for col in [\"AcidIndex\", \"LabelAppeal\"]:\n",
    "    if col in wine_df.columns:\n",
    "        wine_df[col].fillna(wine_df[col].mode()[0], inplace=True)\n",
    "\n",
    "# for any remaining non-numeric columns, fill missing with mode\n",
    "for col in wine_df.select_dtypes(exclude=[np.number]).columns:\n",
    "    wine_df[col].fillna(wine_df[col].mode()[0], inplace=True)\n",
    "\n",
    "# check for missing values again\n",
    "wine_df.isna().sum()"
   ]
  },
  {
   "cell_type": "markdown",
   "id": "9bd54770",
   "metadata": {},
   "source": [
    "After imputation, all missing values have been filled. Negative values in columns that should be non-negative have been replaced with the mean of the respective column. For the AcidIndex and LabelAppeal columns, which are discrete or categorical, missing values were filled using the mode (most frequent value). For the STARS column, which is a discrete rating with a large proportion of missing values (~3,000 out of 12,000), KNN imputation was used. \n",
    "\n",
    "Mode or median imputation were not ideal for Stars because with so many missing values, these methods would simply fill a large portion of the data with a single value, distorting the actual distribution and reducing variability. KNN imputation makes sure the similarity between samples to estimate missing values based on the patterns in the other features, and the results are rounded and clipped to ensure only valid integer ratings (1-5) are used. This approach avoids introducing nonsensical decimal values and is more robust than median or mode imputation when a large portion of the data is missing.\n",
    "\n",
    "Below, we rerun EDA on the adjusted columns to compare the results before and after data preparation."
   ]
  },
  {
   "cell_type": "code",
   "execution_count": null,
   "id": "9c21eae5",
   "metadata": {},
   "outputs": [],
   "source": [
    "# replot histograms for the adjusted columns\n",
    "adj_cols = [col for col in nonneg_cols if col in wine_df.columns]\n",
    "wine_df[adj_cols].hist(bins=30, figsize=(18, 12))\n",
    "plt.tight_layout()\n",
    "plt.show()"
   ]
  },
  {
   "cell_type": "code",
   "execution_count": null,
   "id": "60f3e985",
   "metadata": {},
   "outputs": [],
   "source": [
    "# replot boxplots for the adjusted columns\n",
    "plt.figure(figsize=(18, 12))\n",
    "for i, col in enumerate(adj_cols):\n",
    "    plt.subplot(4, 4, i+1)\n",
    "    sns.boxplot(y=wine_df[col])\n",
    "    plt.title(col)\n",
    "plt.tight_layout()\n",
    "plt.show()"
   ]
  },
  {
   "cell_type": "markdown",
   "id": "77696e3b",
   "metadata": {},
   "source": [
    "## Prepped Data Review\n",
    "\n",
    "The distributions of the adjusted columns now show fewer extreme outliers and no negative values. Imputation has filled in missing data, making the dataset more suitable for machine learning. However, some features remain a bit skewed."
   ]
  },
  {
   "cell_type": "markdown",
   "id": "71eeb287",
   "metadata": {},
   "source": [
    "## Conclusions\n",
    "\n",
    "Through a combination of exploratory data analysis and data preparation, we have identified and addressed several data integrity issues in the wine dataset. Missing and invalid values were handled using imputation, and negative values in non-negative columns were corrected. The resulting dataset is now more suitable for use in machine learning models."
   ]
  }
 ],
 "metadata": {
  "kernelspec": {
   "display_name": "csci381-quiz1",
   "language": "python",
   "name": "csci381-quiz1"
  },
  "language_info": {
   "codemirror_mode": {
    "name": "ipython",
    "version": 3
   },
   "file_extension": ".py",
   "mimetype": "text/x-python",
   "name": "python",
   "nbconvert_exporter": "python",
   "pygments_lexer": "ipython3",
   "version": "3.11.7"
  }
 },
 "nbformat": 4,
 "nbformat_minor": 5
}
